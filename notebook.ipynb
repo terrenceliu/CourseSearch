{
 "cells": [
  {
   "cell_type": "code",
   "execution_count": 113,
   "metadata": {
    "collapsed": true
   },
   "outputs": [],
   "source": [
    "import pandas as pd\n",
    "from nltk import sent_tokenize, word_tokenize, wordpunct_tokenize\n",
    "from nltk.corpus import stopwords\n",
    "import copy\n",
    "import logging\n",
    "from gensim.models import doc2vec\n",
    "from gensim import matutils\n",
    "from numpy import dot, array\n",
    "import logging\n",
    "import cPickle as pickle\n",
    "import cProfile\n",
    "\n",
    "logging.basicConfig(format='%(asctime)s : %(levelname)s : %(message)s', level=logging.INFO)"
   ]
  },
  {
   "cell_type": "code",
   "execution_count": 41,
   "metadata": {
    "collapsed": true
   },
   "outputs": [
    {
     "name": "stdout",
     "output_type": "stream",
     "text": [
      "                                Title         Department  \\\nAFSC101      FOUNDATION OF THE USAF I  Air Force Science   \nAFSC102     FOUNDATION OF THE USAF II  Air Force Science   \nAFSC201      EVOLUTION OF AIR POWER I  Air Force Science   \nAFSC202     EVOLUTION OF AIR POWER II  Air Force Science   \nAFSC301  AIR FORCE LEADERSHIP STUDY I  Air Force Science   \n\n                           Long Title  \\\nAFSC101      FOUNDATION OF THE USAF I   \nAFSC102     FOUNDATION OF THE USAF II   \nAFSC201      EVOLUTION OF AIR POWER I   \nAFSC202     EVOLUTION OF AIR POWER II   \nAFSC301  AIR FORCE LEADERSHIP STUDY I   \n\n                                               Description  \nAFSC101  Overall roles and missions of the USAF; career...  \nAFSC102  Continuation of AFSC 101.  Course taught at th...  \nAFSC201  Key historical events and milestones in the de...  \nAFSC202  Continuation of AFSC 201.  Course taught at th...  \nAFSC301  Leadership, management fundamentals, professio...  \n"
     ]
    }
   ],
   "source": [
    "with open('data/catalog.xlsx', 'r') as f:\n",
    "\tcatalog = pd.read_excel(f) # type: pandas.core.frame.DataFrame\n",
    "print catalog.head()"
   ]
  },
  {
   "cell_type": "code",
   "execution_count": 42,
   "metadata": {},
   "outputs": [],
   "source": [
    "# fill na\n",
    "catalog = catalog.fillna('')"
   ]
  },
  {
   "cell_type": "code",
   "execution_count": 44,
   "metadata": {},
   "outputs": [],
   "source": [
    "# extract data\n",
    "catalog_train = catalog[['Long Title', 'Description']]"
   ]
  },
  {
   "cell_type": "code",
   "execution_count": null,
   "metadata": {
    "collapsed": true
   },
   "outputs": [],
   "source": [
    "def sentence_to_words(sentence, stop_word = False, stem = False):\n",
    "\twords = sent_tokenize(sentence)\n",
    "\t\n",
    "\tif stop_word == True:\n",
    "\t\tstop = stopwords.words('english')\n",
    "\t\twords = [w for w in words if w not in stop]\n",
    "\t\n",
    "\treturn words"
   ]
  },
  {
   "cell_type": "code",
   "execution_count": 57,
   "metadata": {
    "collapsed": false
   },
   "outputs": [
    {
     "name": "stdout",
     "output_type": "stream",
     "text": [
      "Number of sentences:  24405\n"
     ]
    },
    {
     "name": "stdout",
     "output_type": "stream",
     "text": [
      "Number of words:  345022\n"
     ]
    }
   ],
   "source": [
    "# tag sentence\n",
    "train = []\n",
    "for index, row in catalog_train.iterrows():\n",
    "\tfor content in row:\n",
    "\t\tsentences = sent_tokenize(content)\n",
    "\t\tfor sentence in sentences:\n",
    "\t\t\ttrain.append((sentence, index))\n",
    "print 'Number of sentences: ', len(train)\n",
    "# tokenize sentence\n",
    "count = 0\n",
    "for idx in range(len(train)):\n",
    "\tsentence = train[idx][0]\n",
    "\ttag = train[idx][1]\n",
    "\twords = word_tokenize(sentence)\n",
    "\tcount += len(words)\n",
    "\ttrain[idx] = (words, tag)\n",
    "print 'Number of words: ', count"
   ]
  },
  {
   "cell_type": "code",
   "execution_count": 59,
   "metadata": {},
   "outputs": [],
   "source": [
    "# Create Tagged Document\n",
    "documents = []\n",
    "sentences = []\n",
    "for ele in train:\n",
    "\tsent = ele[0]\n",
    "\ttag = [str(ele[1])]\n",
    "\tinstance = doc2vec.TaggedDocument(sent, tag)    # type: doc2vec.TaggedDocument\n",
    "\tdocuments.append(instance)\n",
    "\tsentences.append(sent)"
   ]
  },
  {
   "cell_type": "code",
   "execution_count": 60,
   "metadata": {},
   "outputs": [],
   "source": [
    "# Config Train Model\n",
    "default_alpha = 0.025\n",
    "min_alpha = 0.0001\n",
    "windows = 8;\n",
    "\n",
    "model = doc2vec.Doc2Vec(size=300, min_count = 3, window = windows, \n",
    "                        alpha= default_alpha, min_alpha= min_alpha)\n",
    "model.build_vocab(documents)\n",
    "model.intersect_word2vec_format('GoogleNews-vectors-negative300.bin', \n",
    "                                binary=True, lockf = 1.0)"
   ]
  },
  {
   "cell_type": "code",
   "execution_count": 73,
   "metadata": {},
   "outputs": [],
   "source": [
    "# save model\n",
    "with open('pickle/unlockModel','w') as f:\n",
    "\tmodel.save(f)"
   ]
  },
  {
   "cell_type": "code",
   "execution_count": 105,
   "metadata": {
    "collapsed": true
   },
   "outputs": [],
   "source": [
    "def train_epoch(m, epoch):\n",
    "\t\"\"\"\n",
    "\tReturn a trained trainedmodel based on base trainedmodel & epoch time\n",
    "\t:param epoch:\n",
    "\t:return:\n",
    "\t\"\"\"\n",
    "\tmodel = copy.deepcopy(m)\n",
    "\tassert isinstance(model, doc2vec.Doc2Vec)\n",
    "\t\n",
    "\ttotal_examples = len(documents)\n",
    "\tmodel.train(documents, total_examples=total_examples, epochs=epoch)\n",
    "\treturn model"
   ]
  },
  {
   "cell_type": "code",
   "execution_count": 115,
   "metadata": {
    "collapsed": true
   },
   "outputs": [
    {
     "name": "stderr",
     "output_type": "stream",
     "text": [
      "2017-08-29 22:01:17,084 : INFO : training model with 3 workers on 8884 vocabulary and 300 features, using sg=0 hs=0 sample=0.001 negative=5 window=8\n"
     ]
    },
    {
     "name": "stderr",
     "output_type": "stream",
     "text": [
      "2017-08-29 22:01:18,103 : INFO : PROGRESS: at 1.53% examples, 202548 words/s, in_qsize 5, out_qsize 0\n"
     ]
    },
    {
     "name": "stderr",
     "output_type": "stream",
     "text": [
      "2017-08-29 22:01:19,139 : INFO : PROGRESS: at 3.05% examples, 197470 words/s, in_qsize 6, out_qsize 0\n"
     ]
    },
    {
     "name": "stderr",
     "output_type": "stream",
     "text": [
      "2017-08-29 22:01:20,168 : INFO : PROGRESS: at 4.46% examples, 191024 words/s, in_qsize 5, out_qsize 0\n"
     ]
    },
    {
     "name": "stderr",
     "output_type": "stream",
     "text": [
      "2017-08-29 22:01:21,188 : INFO : PROGRESS: at 6.14% examples, 197441 words/s, in_qsize 6, out_qsize 0\n"
     ]
    },
    {
     "name": "stderr",
     "output_type": "stream",
     "text": [
      "2017-08-29 22:01:22,208 : INFO : PROGRESS: at 7.55% examples, 195275 words/s, in_qsize 6, out_qsize 0\n"
     ]
    },
    {
     "name": "stderr",
     "output_type": "stream",
     "text": [
      "2017-08-29 22:01:23,231 : INFO : PROGRESS: at 8.97% examples, 192730 words/s, in_qsize 5, out_qsize 0\n"
     ]
    },
    {
     "name": "stderr",
     "output_type": "stream",
     "text": [
      "2017-08-29 22:01:24,237 : INFO : PROGRESS: at 10.54% examples, 194466 words/s, in_qsize 5, out_qsize 0\n"
     ]
    },
    {
     "name": "stderr",
     "output_type": "stream",
     "text": [
      "2017-08-29 22:01:25,251 : INFO : PROGRESS: at 11.99% examples, 193684 words/s, in_qsize 6, out_qsize 0\n"
     ]
    },
    {
     "name": "stderr",
     "output_type": "stream",
     "text": [
      "2017-08-29 22:01:26,275 : INFO : PROGRESS: at 13.58% examples, 195334 words/s, in_qsize 5, out_qsize 0\n"
     ]
    },
    {
     "name": "stderr",
     "output_type": "stream",
     "text": [
      "2017-08-29 22:01:27,302 : INFO : PROGRESS: at 14.94% examples, 192956 words/s, in_qsize 6, out_qsize 0\n"
     ]
    },
    {
     "name": "stderr",
     "output_type": "stream",
     "text": [
      "2017-08-29 22:01:28,352 : INFO : PROGRESS: at 16.56% examples, 193983 words/s, in_qsize 6, out_qsize 0\n"
     ]
    },
    {
     "name": "stderr",
     "output_type": "stream",
     "text": [
      "2017-08-29 22:01:29,358 : INFO : PROGRESS: at 18.07% examples, 194214 words/s, in_qsize 5, out_qsize 0\n"
     ]
    },
    {
     "name": "stderr",
     "output_type": "stream",
     "text": [
      "2017-08-29 22:01:30,391 : INFO : PROGRESS: at 19.67% examples, 195202 words/s, in_qsize 5, out_qsize 0\n"
     ]
    },
    {
     "name": "stderr",
     "output_type": "stream",
     "text": [
      "2017-08-29 22:01:31,397 : INFO : PROGRESS: at 21.22% examples, 195897 words/s, in_qsize 5, out_qsize 0\n"
     ]
    },
    {
     "name": "stderr",
     "output_type": "stream",
     "text": [
      "2017-08-29 22:01:32,463 : INFO : PROGRESS: at 22.98% examples, 197244 words/s, in_qsize 5, out_qsize 0\n"
     ]
    },
    {
     "name": "stderr",
     "output_type": "stream",
     "text": [
      "2017-08-29 22:01:33,518 : INFO : PROGRESS: at 24.72% examples, 198556 words/s, in_qsize 6, out_qsize 0\n"
     ]
    },
    {
     "name": "stderr",
     "output_type": "stream",
     "text": [
      "2017-08-29 22:01:34,568 : INFO : PROGRESS: at 26.46% examples, 199720 words/s, in_qsize 5, out_qsize 0\n"
     ]
    },
    {
     "name": "stderr",
     "output_type": "stream",
     "text": [
      "2017-08-29 22:01:35,621 : INFO : PROGRESS: at 28.20% examples, 200703 words/s, in_qsize 6, out_qsize 0\n"
     ]
    },
    {
     "name": "stderr",
     "output_type": "stream",
     "text": [
      "2017-08-29 22:01:36,672 : INFO : PROGRESS: at 29.93% examples, 201634 words/s, in_qsize 6, out_qsize 0\n"
     ]
    },
    {
     "name": "stderr",
     "output_type": "stream",
     "text": [
      "2017-08-29 22:01:37,703 : INFO : PROGRESS: at 31.66% examples, 202654 words/s, in_qsize 6, out_qsize 0\n"
     ]
    },
    {
     "name": "stderr",
     "output_type": "stream",
     "text": [
      "2017-08-29 22:01:38,748 : INFO : PROGRESS: at 33.38% examples, 203447 words/s, in_qsize 6, out_qsize 0\n"
     ]
    },
    {
     "name": "stderr",
     "output_type": "stream",
     "text": [
      "2017-08-29 22:01:39,804 : INFO : PROGRESS: at 35.12% examples, 204097 words/s, in_qsize 6, out_qsize 0\n"
     ]
    },
    {
     "name": "stderr",
     "output_type": "stream",
     "text": [
      "2017-08-29 22:01:40,860 : INFO : PROGRESS: at 36.89% examples, 204698 words/s, in_qsize 6, out_qsize 0\n"
     ]
    },
    {
     "name": "stderr",
     "output_type": "stream",
     "text": [
      "2017-08-29 22:01:41,919 : INFO : PROGRESS: at 38.62% examples, 205203 words/s, in_qsize 6, out_qsize 0\n"
     ]
    },
    {
     "name": "stderr",
     "output_type": "stream",
     "text": [
      "2017-08-29 22:01:42,958 : INFO : PROGRESS: at 40.36% examples, 205803 words/s, in_qsize 6, out_qsize 0\n"
     ]
    },
    {
     "name": "stderr",
     "output_type": "stream",
     "text": [
      "2017-08-29 22:01:44,031 : INFO : PROGRESS: at 42.09% examples, 206099 words/s, in_qsize 6, out_qsize 0\n"
     ]
    },
    {
     "name": "stderr",
     "output_type": "stream",
     "text": [
      "2017-08-29 22:01:45,056 : INFO : PROGRESS: at 43.77% examples, 206447 words/s, in_qsize 5, out_qsize 0\n"
     ]
    },
    {
     "name": "stderr",
     "output_type": "stream",
     "text": [
      "2017-08-29 22:01:46,070 : INFO : PROGRESS: at 45.43% examples, 206856 words/s, in_qsize 6, out_qsize 0\n"
     ]
    },
    {
     "name": "stderr",
     "output_type": "stream",
     "text": [
      "2017-08-29 22:01:47,073 : INFO : PROGRESS: at 47.06% examples, 207095 words/s, in_qsize 5, out_qsize 0\n"
     ]
    },
    {
     "name": "stderr",
     "output_type": "stream",
     "text": [
      "2017-08-29 22:01:48,081 : INFO : PROGRESS: at 48.58% examples, 206777 words/s, in_qsize 6, out_qsize 0\n"
     ]
    },
    {
     "name": "stderr",
     "output_type": "stream",
     "text": [
      "2017-08-29 22:01:49,102 : INFO : PROGRESS: at 50.26% examples, 207086 words/s, in_qsize 5, out_qsize 0\n"
     ]
    },
    {
     "name": "stderr",
     "output_type": "stream",
     "text": [
      "2017-08-29 22:01:50,154 : INFO : PROGRESS: at 51.94% examples, 207187 words/s, in_qsize 5, out_qsize 0\n"
     ]
    },
    {
     "name": "stderr",
     "output_type": "stream",
     "text": [
      "2017-08-29 22:01:51,211 : INFO : PROGRESS: at 53.66% examples, 207480 words/s, in_qsize 6, out_qsize 0\n"
     ]
    },
    {
     "name": "stderr",
     "output_type": "stream",
     "text": [
      "2017-08-29 22:01:52,243 : INFO : PROGRESS: at 55.40% examples, 207917 words/s, in_qsize 5, out_qsize 0\n"
     ]
    },
    {
     "name": "stderr",
     "output_type": "stream",
     "text": [
      "2017-08-29 22:01:53,299 : INFO : PROGRESS: at 57.12% examples, 208178 words/s, in_qsize 6, out_qsize 0\n"
     ]
    },
    {
     "name": "stderr",
     "output_type": "stream",
     "text": [
      "2017-08-29 22:01:54,356 : INFO : PROGRESS: at 58.89% examples, 208453 words/s, in_qsize 6, out_qsize 0\n"
     ]
    },
    {
     "name": "stderr",
     "output_type": "stream",
     "text": [
      "2017-08-29 22:01:55,408 : INFO : PROGRESS: at 60.62% examples, 208703 words/s, in_qsize 6, out_qsize 0\n"
     ]
    },
    {
     "name": "stderr",
     "output_type": "stream",
     "text": [
      "2017-08-29 22:01:56,410 : INFO : PROGRESS: at 62.30% examples, 209013 words/s, in_qsize 5, out_qsize 0\n"
     ]
    },
    {
     "name": "stderr",
     "output_type": "stream",
     "text": [
      "2017-08-29 22:01:57,432 : INFO : PROGRESS: at 63.93% examples, 209017 words/s, in_qsize 5, out_qsize 0\n"
     ]
    },
    {
     "name": "stderr",
     "output_type": "stream",
     "text": [
      "2017-08-29 22:01:58,452 : INFO : PROGRESS: at 65.64% examples, 209391 words/s, in_qsize 6, out_qsize 0\n"
     ]
    },
    {
     "name": "stderr",
     "output_type": "stream",
     "text": [
      "2017-08-29 22:01:59,465 : INFO : PROGRESS: at 67.32% examples, 209618 words/s, in_qsize 5, out_qsize 0\n"
     ]
    },
    {
     "name": "stderr",
     "output_type": "stream",
     "text": [
      "2017-08-29 22:02:00,481 : INFO : PROGRESS: at 69.01% examples, 209825 words/s, in_qsize 6, out_qsize 0\n"
     ]
    },
    {
     "name": "stderr",
     "output_type": "stream",
     "text": [
      "2017-08-29 22:02:01,503 : INFO : PROGRESS: at 70.64% examples, 209815 words/s, in_qsize 5, out_qsize 0\n"
     ]
    },
    {
     "name": "stderr",
     "output_type": "stream",
     "text": [
      "2017-08-29 22:02:02,548 : INFO : PROGRESS: at 72.38% examples, 210025 words/s, in_qsize 5, out_qsize 0\n"
     ]
    },
    {
     "name": "stderr",
     "output_type": "stream",
     "text": [
      "2017-08-29 22:02:03,566 : INFO : PROGRESS: at 73.94% examples, 209861 words/s, in_qsize 6, out_qsize 0\n"
     ]
    },
    {
     "name": "stderr",
     "output_type": "stream",
     "text": [
      "2017-08-29 22:02:04,584 : INFO : PROGRESS: at 75.38% examples, 209385 words/s, in_qsize 5, out_qsize 0\n"
     ]
    },
    {
     "name": "stderr",
     "output_type": "stream",
     "text": [
      "2017-08-29 22:02:05,613 : INFO : PROGRESS: at 77.05% examples, 209512 words/s, in_qsize 6, out_qsize 0\n"
     ]
    },
    {
     "name": "stderr",
     "output_type": "stream",
     "text": [
      "2017-08-29 22:02:06,630 : INFO : PROGRESS: at 78.75% examples, 209696 words/s, in_qsize 5, out_qsize 0\n"
     ]
    },
    {
     "name": "stderr",
     "output_type": "stream",
     "text": [
      "2017-08-29 22:02:07,652 : INFO : PROGRESS: at 80.37% examples, 209674 words/s, in_qsize 5, out_qsize 0\n"
     ]
    },
    {
     "name": "stderr",
     "output_type": "stream",
     "text": [
      "2017-08-29 22:02:08,716 : INFO : PROGRESS: at 82.11% examples, 209793 words/s, in_qsize 5, out_qsize 0\n"
     ]
    },
    {
     "name": "stderr",
     "output_type": "stream",
     "text": [
      "2017-08-29 22:02:09,722 : INFO : PROGRESS: at 83.78% examples, 209983 words/s, in_qsize 5, out_qsize 0\n"
     ]
    },
    {
     "name": "stderr",
     "output_type": "stream",
     "text": [
      "2017-08-29 22:02:10,751 : INFO : PROGRESS: at 85.48% examples, 210220 words/s, in_qsize 6, out_qsize 0\n"
     ]
    },
    {
     "name": "stderr",
     "output_type": "stream",
     "text": [
      "2017-08-29 22:02:11,768 : INFO : PROGRESS: at 87.12% examples, 210235 words/s, in_qsize 5, out_qsize 0\n"
     ]
    },
    {
     "name": "stderr",
     "output_type": "stream",
     "text": [
      "2017-08-29 22:02:12,778 : INFO : PROGRESS: at 88.83% examples, 210412 words/s, in_qsize 6, out_qsize 0\n"
     ]
    },
    {
     "name": "stderr",
     "output_type": "stream",
     "text": [
      "2017-08-29 22:02:13,784 : INFO : PROGRESS: at 90.44% examples, 210446 words/s, in_qsize 5, out_qsize 0\n"
     ]
    },
    {
     "name": "stderr",
     "output_type": "stream",
     "text": [
      "2017-08-29 22:02:14,800 : INFO : PROGRESS: at 92.07% examples, 210440 words/s, in_qsize 6, out_qsize 0\n"
     ]
    },
    {
     "name": "stderr",
     "output_type": "stream",
     "text": [
      "2017-08-29 22:02:15,809 : INFO : PROGRESS: at 93.67% examples, 210461 words/s, in_qsize 5, out_qsize 0\n"
     ]
    },
    {
     "name": "stderr",
     "output_type": "stream",
     "text": [
      "2017-08-29 22:02:16,839 : INFO : PROGRESS: at 95.41% examples, 210670 words/s, in_qsize 5, out_qsize 0\n"
     ]
    },
    {
     "name": "stderr",
     "output_type": "stream",
     "text": [
      "2017-08-29 22:02:17,914 : INFO : PROGRESS: at 97.14% examples, 210719 words/s, in_qsize 6, out_qsize 0\n"
     ]
    },
    {
     "name": "stderr",
     "output_type": "stream",
     "text": [
      "2017-08-29 22:02:18,974 : INFO : PROGRESS: at 98.91% examples, 210825 words/s, in_qsize 6, out_qsize 0\n"
     ]
    },
    {
     "name": "stderr",
     "output_type": "stream",
     "text": [
      "2017-08-29 22:02:19,538 : INFO : worker thread finished; awaiting finish of 2 more threads\n"
     ]
    },
    {
     "name": "stderr",
     "output_type": "stream",
     "text": [
      "2017-08-29 22:02:19,602 : INFO : worker thread finished; awaiting finish of 1 more threads\n"
     ]
    },
    {
     "name": "stderr",
     "output_type": "stream",
     "text": [
      "2017-08-29 22:02:19,606 : INFO : worker thread finished; awaiting finish of 0 more threads\n"
     ]
    },
    {
     "name": "stderr",
     "output_type": "stream",
     "text": [
      "2017-08-29 22:02:19,607 : INFO : training on 17251100 raw words (13191057 effective words) took 62.5s, 210993 effective words/s\n"
     ]
    }
   ],
   "source": [
    "dvmodel = train_epoch(model, 50)"
   ]
  },
  {
   "cell_type": "code",
   "execution_count": 108,
   "metadata": {},
   "outputs": [],
   "source": [
    "def predict_course(model, query_list, n = 5):\n",
    "\t\"\"\"\n",
    "\tGiven a pretrianed model and a list of query words, return the top-n related course with cosine similarity\n",
    "\t:param n: get top-n related course; default n = 5\n",
    "\t:param model: a doc2vec model\n",
    "\t:param query_list: a list of query word\n",
    "\t:type model: doc2vec.Doc2Vec\n",
    "\t:type query_list: list\n",
    "\t:return: [(tag, cosine_similarity)]\n",
    "\t\"\"\"\n",
    "\tdv = model.docvecs\n",
    "\t\n",
    "\tdef get_vector(model, query_list):\n",
    "\t\t\"\"\"\n",
    "\t\tReturn the sum vector of a list of words\n",
    "\t\t:type model: doc2vec.Doc2Vec\n",
    "\t\t:type query_list: list\n",
    "\t\t\"\"\"\n",
    "\t\tstrlist = query_list.split(\" \")\n",
    "\t\tv = [model[i] for i in strlist]\n",
    "\t\treturn matutils.unitvec(array(v).sum(axis=0))\n",
    "\t\n",
    "\tsum_vec = get_vector(model, query_list)\n",
    "\tresult = model.docvecs.most_similar([sum_vec], topn = n)\n",
    "\treturn result"
   ]
  },
  {
   "cell_type": "code",
   "execution_count": 118,
   "metadata": {
    "collapsed": false
   },
   "outputs": [
    {
     "name": "stdout",
     "output_type": "stream",
     "text": [
      "[('HIST233', 0.27921849489212036), ('HIST533', 0.2791692018508911), ('STAT281', 0.23940983414649963), ('MUSI605', 0.23683518171310425), ('PSYC581', 0.2252344787120819)]\n[(u'simulations', 0.40995684266090393), (u'physics', 0.3936920464038849), (u'biology', 0.3717336356639862), (u'hands-on', 0.3641414940357208), (u'mathematics', 0.36155372858047485), (u'laboratory', 0.3612132966518402), (u'engineering', 0.3518570065498352), (u'finance', 0.35036101937294006), (u'useful', 0.34551703929901123), (u'electronics', 0.34456297755241394)]\n"
     ]
    }
   ],
   "source": [
    "print predict_course(dvmodel, 'computer science')\n",
    "print dvmodel.most_similar('computer science'.split())"
   ]
  },
  {
   "cell_type": "code",
   "execution_count": 117,
   "metadata": {},
   "outputs": [],
   "source": [
    ""
   ]
  },
  {
   "cell_type": "code",
   "execution_count": null,
   "metadata": {},
   "outputs": [],
   "source": [
    ""
   ]
  }
 ],
 "metadata": {
  "kernelspec": {
   "display_name": "Python 2",
   "language": "python",
   "name": "python2"
  },
  "language_info": {
   "codemirror_mode": {
    "name": "ipython",
    "version": 2.0
   },
   "file_extension": ".py",
   "mimetype": "text/x-python",
   "name": "python",
   "nbconvert_exporter": "python",
   "pygments_lexer": "ipython2",
   "version": "2.7.6"
  }
 },
 "nbformat": 4,
 "nbformat_minor": 0
}